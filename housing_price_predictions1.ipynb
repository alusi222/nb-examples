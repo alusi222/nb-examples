{
 "metadata": {
  "colab": {
   "provenance": []
  },
  "kernelspec": {
   "name": "python3",
   "display_name": "Python 3"
  },
  "language_info": {
   "name": "python"
  },
  "lastEditStatus": {
   "notebookId": "",
   "authorId": 392143379641,
   "authorName": "",
   "authorEmail": "",
   "sessionId": "324c3582-a590-4a1c-a620-392ac549fbca",
   "lastEditTime": 1752871713294
  }
 },
 "nbformat_minor": 0,
 "nbformat": 4,
 "cells": [
  {
   "cell_type": "code",
   "execution_count": null,
   "metadata": {
    "id": "PdVIy54D-seq",
    "name": "cell1",
    "language": "python"
   },
   "outputs": [],
   "source": [],
   "id": "ce110000-1111-2222-3333-ffffff000000"
  },
  {
   "cell_type": "markdown",
   "metadata": {
    "id": "60f4293b",
    "name": "cell2"
   },
   "source": [
    "# Task\n",
    "Predict housing prices using the scikit-learn housing dataset, train multiple models, and evaluate their performance."
   ],
   "id": "ce110000-1111-2222-3333-ffffff000001"
  },
  {
   "cell_type": "markdown",
   "metadata": {
    "id": "f032c6e0",
    "name": "cell3"
   },
   "source": [
    "## Load the dataset\n",
    "\n",
    "### Subtask:\n",
    "Load the housing dataset from scikit-learn.\n"
   ],
   "id": "ce110000-1111-2222-3333-ffffff000002"
  },
  {
   "cell_type": "markdown",
   "metadata": {
    "id": "10bed44a",
    "name": "cell4"
   },
   "source": [
    "**Reasoning**:\n",
    "Import the necessary function and load the dataset as instructed.\n",
    "\n"
   ],
   "id": "ce110000-1111-2222-3333-ffffff000003"
  },
  {
   "cell_type": "code",
   "metadata": {
    "id": "5372cb0c",
    "name": "cell5",
    "language": "python"
   },
   "source": [
    "from sklearn.datasets import fetch_california_housing\n",
    "\n",
    "housing = fetch_california_housing()"
   ],
   "execution_count": null,
   "outputs": [],
   "id": "ce110000-1111-2222-3333-ffffff000004"
  },
  {
   "cell_type": "markdown",
   "metadata": {
    "id": "27cb6cab",
    "name": "cell6"
   },
   "source": [
    "## Inspect and preprocess data\n",
    "\n",
    "### Subtask:\n",
    "Display the first few rows and information about the dataset. Handle missing values if any. Split the data into training and testing sets.\n"
   ],
   "id": "ce110000-1111-2222-3333-ffffff000005"
  },
  {
   "cell_type": "markdown",
   "metadata": {
    "id": "26720db1",
    "name": "cell7"
   },
   "source": [
    "**Reasoning**:\n",
    "Create a pandas DataFrame, add the target variable, display the head and info, check for missing values, separate features and target, and split the data into training and testing sets.\n",
    "\n"
   ],
   "id": "ce110000-1111-2222-3333-ffffff000006"
  },
  {
   "cell_type": "code",
   "metadata": {
    "colab": {
     "base_uri": "https://localhost:8080/",
     "height": 848
    },
    "id": "6f29b7a0",
    "outputId": "562d0dd6-681d-41af-cdbd-bc9c9f17bbec",
    "name": "cell8",
    "language": "python"
   },
   "source": [
    "import pandas as pd\n",
    "from sklearn.model_selection import train_test_split\n",
    "\n",
    "df = pd.DataFrame(housing.data, columns=housing.feature_names)\n",
    "df['MedHouseVal'] = housing.target\n",
    "\n",
    "print(\"First 5 rows of the DataFrame:\")\n",
    "display(df.head())\n",
    "\n",
    "print(\"\\nInformation about the DataFrame:\")\n",
    "df.info()\n",
    "\n",
    "print(\"\\nMissing values per column:\")\n",
    "print(df.isnull().sum())\n",
    "\n",
    "X = df.drop('MedHouseVal', axis=1)\n",
    "y = df['MedHouseVal']\n",
    "\n",
    "X_train, X_test, y_train, y_test = train_test_split(X, y, test_size=0.2, random_state=42)\n",
    "\n",
    "print(\"\\nShape of training and testing sets:\")\n",
    "print(\"X_train:\", X_train.shape)\n",
    "print(\"X_test:\", X_test.shape)\n",
    "print(\"y_train:\", y_train.shape)\n",
    "print(\"y_test:\", y_test.shape)"
   ],
   "execution_count": null,
   "outputs": [
    {
     "output_type": "stream",
     "name": "stdout",
     "text": [
      "First 5 rows of the DataFrame:\n"
     ]
    },
    {
     "output_type": "display_data",
     "data": {
      "text/plain": [
       "   MedInc  HouseAge  AveRooms  AveBedrms  Population  AveOccup  Latitude  \\\n",
       "0  8.3252      41.0  6.984127   1.023810       322.0  2.555556     37.88   \n",
       "1  8.3014      21.0  6.238137   0.971880      2401.0  2.109842     37.86   \n",
       "2  7.2574      52.0  8.288136   1.073446       496.0  2.802260     37.85   \n",
       "3  5.6431      52.0  5.817352   1.073059       558.0  2.547945     37.85   \n",
       "4  3.8462      52.0  6.281853   1.081081       565.0  2.181467     37.85   \n",
       "\n",
       "   Longitude  MedHouseVal  \n",
       "0    -122.23        4.526  \n",
       "1    -122.22        3.585  \n",
       "2    -122.24        3.521  \n",
       "3    -122.25        3.413  \n",
       "4    -122.25        3.422  "
      ],
      "text/html": [
       "\n",
       "  <div id=\"df-4d302a7c-97f2-456c-9a3f-4e129232ad54\" class=\"colab-df-container\">\n",
       "    <div>\n",
       "<style scoped>\n",
       "    .dataframe tbody tr th:only-of-type {\n",
       "        vertical-align: middle;\n",
       "    }\n",
       "\n",
       "    .dataframe tbody tr th {\n",
       "        vertical-align: top;\n",
       "    }\n",
       "\n",
       "    .dataframe thead th {\n",
       "        text-align: right;\n",
       "    }\n",
       "</style>\n",
       "<table border=\"1\" class=\"dataframe\">\n",
       "  <thead>\n",
       "    <tr style=\"text-align: right;\">\n",
       "      <th></th>\n",
       "      <th>MedInc</th>\n",
       "      <th>HouseAge</th>\n",
       "      <th>AveRooms</th>\n",
       "      <th>AveBedrms</th>\n",
       "      <th>Population</th>\n",
       "      <th>AveOccup</th>\n",
       "      <th>Latitude</th>\n",
       "      <th>Longitude</th>\n",
       "      <th>MedHouseVal</th>\n",
       "    </tr>\n",
       "  </thead>\n",
       "  <tbody>\n",
       "    <tr>\n",
       "      <th>0</th>\n",
       "      <td>8.3252</td>\n",
       "      <td>41.0</td>\n",
       "      <td>6.984127</td>\n",
       "      <td>1.023810</td>\n",
       "      <td>322.0</td>\n",
       "      <td>2.555556</td>\n",
       "      <td>37.88</td>\n",
       "      <td>-122.23</td>\n",
       "      <td>4.526</td>\n",
       "    </tr>\n",
       "    <tr>\n",
       "      <th>1</th>\n",
       "      <td>8.3014</td>\n",
       "      <td>21.0</td>\n",
       "      <td>6.238137</td>\n",
       "      <td>0.971880</td>\n",
       "      <td>2401.0</td>\n",
       "      <td>2.109842</td>\n",
       "      <td>37.86</td>\n",
       "      <td>-122.22</td>\n",
       "      <td>3.585</td>\n",
       "    </tr>\n",
       "    <tr>\n",
       "      <th>2</th>\n",
       "      <td>7.2574</td>\n",
       "      <td>52.0</td>\n",
       "      <td>8.288136</td>\n",
       "      <td>1.073446</td>\n",
       "      <td>496.0</td>\n",
       "      <td>2.802260</td>\n",
       "      <td>37.85</td>\n",
       "      <td>-122.24</td>\n",
       "      <td>3.521</td>\n",
       "    </tr>\n",
       "    <tr>\n",
       "      <th>3</th>\n",
       "      <td>5.6431</td>\n",
       "      <td>52.0</td>\n",
       "      <td>5.817352</td>\n",
       "      <td>1.073059</td>\n",
       "      <td>558.0</td>\n",
       "      <td>2.547945</td>\n",
       "      <td>37.85</td>\n",
       "      <td>-122.25</td>\n",
       "      <td>3.413</td>\n",
       "    </tr>\n",
       "    <tr>\n",
       "      <th>4</th>\n",
       "      <td>3.8462</td>\n",
       "      <td>52.0</td>\n",
       "      <td>6.281853</td>\n",
       "      <td>1.081081</td>\n",
       "      <td>565.0</td>\n",
       "      <td>2.181467</td>\n",
       "      <td>37.85</td>\n",
       "      <td>-122.25</td>\n",
       "      <td>3.422</td>\n",
       "    </tr>\n",
       "  </tbody>\n",
       "</table>\n",
       "</div>\n",
       "    <div class=\"colab-df-buttons\">\n",
       "\n",
       "  <div class=\"colab-df-container\">\n",
       "    <button class=\"colab-df-convert\" onclick=\"convertToInteractive('df-4d302a7c-97f2-456c-9a3f-4e129232ad54')\"\n",
       "            title=\"Convert this dataframe to an interactive table.\"\n",
       "            style=\"display:none;\">\n",
       "\n",
       "  <svg xmlns=\"http://www.w3.org/2000/svg\" height=\"24px\" viewBox=\"0 -960 960 960\">\n",
       "    <path d=\"M120-120v-720h720v720H120Zm60-500h600v-160H180v160Zm220 220h160v-160H400v160Zm0 220h160v-160H400v160ZM180-400h160v-160H180v160Zm440 0h160v-160H620v160ZM180-180h160v-160H180v160Zm440 0h160v-160H620v160Z\"/>\n",
       "  </svg>\n",
       "    </button>\n",
       "\n",
       "  <style>\n",
       "    .colab-df-container {\n",
       "      display:flex;\n",
       "      gap: 12px;\n",
       "    }\n",
       "\n",
       "    .colab-df-convert {\n",
       "      background-color: #E8F0FE;\n",
       "      border: none;\n",
       "      border-radius: 50%;\n",
       "      cursor: pointer;\n",
       "      display: none;\n",
       "      fill: #1967D2;\n",
       "      height: 32px;\n",
       "      padding: 0 0 0 0;\n",
       "      width: 32px;\n",
       "    }\n",
       "\n",
       "    .colab-df-convert:hover {\n",
       "      background-color: #E2EBFA;\n",
       "      box-shadow: 0px 1px 2px rgba(60, 64, 67, 0.3), 0px 1px 3px 1px rgba(60, 64, 67, 0.15);\n",
       "      fill: #174EA6;\n",
       "    }\n",
       "\n",
       "    .colab-df-buttons div {\n",
       "      margin-bottom: 4px;\n",
       "    }\n",
       "\n",
       "    [theme=dark] .colab-df-convert {\n",
       "      background-color: #3B4455;\n",
       "      fill: #D2E3FC;\n",
       "    }\n",
       "\n",
       "    [theme=dark] .colab-df-convert:hover {\n",
       "      background-color: #434B5C;\n",
       "      box-shadow: 0px 1px 3px 1px rgba(0, 0, 0, 0.15);\n",
       "      filter: drop-shadow(0px 1px 2px rgba(0, 0, 0, 0.3));\n",
       "      fill: #FFFFFF;\n",
       "    }\n",
       "  </style>\n",
       "\n",
       "    <script>\n",
       "      const buttonEl =\n",
       "        document.querySelector('#df-4d302a7c-97f2-456c-9a3f-4e129232ad54 button.colab-df-convert');\n",
       "      buttonEl.style.display =\n",
       "        google.colab.kernel.accessAllowed ? 'block' : 'none';\n",
       "\n",
       "      async function convertToInteractive(key) {\n",
       "        const element = document.querySelector('#df-4d302a7c-97f2-456c-9a3f-4e129232ad54');\n",
       "        const dataTable =\n",
       "          await google.colab.kernel.invokeFunction('convertToInteractive',\n",
       "                                                    [key], {});\n",
       "        if (!dataTable) return;\n",
       "\n",
       "        const docLinkHtml = 'Like what you see? Visit the ' +\n",
       "          '<a target=\"_blank\" href=https://colab.research.google.com/notebooks/data_table.ipynb>data table notebook</a>'\n",
       "          + ' to learn more about interactive tables.';\n",
       "        element.innerHTML = '';\n",
       "        dataTable['output_type'] = 'display_data';\n",
       "        await google.colab.output.renderOutput(dataTable, element);\n",
       "        const docLink = document.createElement('div');\n",
       "        docLink.innerHTML = docLinkHtml;\n",
       "        element.appendChild(docLink);\n",
       "      }\n",
       "    </script>\n",
       "  </div>\n",
       "\n",
       "\n",
       "    <div id=\"df-719add9d-f311-4ce9-bc8c-291b25be4f74\">\n",
       "      <button class=\"colab-df-quickchart\" onclick=\"quickchart('df-719add9d-f311-4ce9-bc8c-291b25be4f74')\"\n",
       "                title=\"Suggest charts\"\n",
       "                style=\"display:none;\">\n",
       "\n",
       "<svg xmlns=\"http://www.w3.org/2000/svg\" height=\"24px\"viewBox=\"0 0 24 24\"\n",
       "     width=\"24px\">\n",
       "    <g>\n",
       "        <path d=\"M19 3H5c-1.1 0-2 .9-2 2v14c0 1.1.9 2 2 2h14c1.1 0 2-.9 2-2V5c0-1.1-.9-2-2-2zM9 17H7v-7h2v7zm4 0h-2V7h2v10zm4 0h-2v-4h2v4z\"/>\n",
       "    </g>\n",
       "</svg>\n",
       "      </button>\n",
       "\n",
       "<style>\n",
       "  .colab-df-quickchart {\n",
       "      --bg-color: #E8F0FE;\n",
       "      --fill-color: #1967D2;\n",
       "      --hover-bg-color: #E2EBFA;\n",
       "      --hover-fill-color: #174EA6;\n",
       "      --disabled-fill-color: #AAA;\n",
       "      --disabled-bg-color: #DDD;\n",
       "  }\n",
       "\n",
       "  [theme=dark] .colab-df-quickchart {\n",
       "      --bg-color: #3B4455;\n",
       "      --fill-color: #D2E3FC;\n",
       "      --hover-bg-color: #434B5C;\n",
       "      --hover-fill-color: #FFFFFF;\n",
       "      --disabled-bg-color: #3B4455;\n",
       "      --disabled-fill-color: #666;\n",
       "  }\n",
       "\n",
       "  .colab-df-quickchart {\n",
       "    background-color: var(--bg-color);\n",
       "    border: none;\n",
       "    border-radius: 50%;\n",
       "    cursor: pointer;\n",
       "    display: none;\n",
       "    fill: var(--fill-color);\n",
       "    height: 32px;\n",
       "    padding: 0;\n",
       "    width: 32px;\n",
       "  }\n",
       "\n",
       "  .colab-df-quickchart:hover {\n",
       "    background-color: var(--hover-bg-color);\n",
       "    box-shadow: 0 1px 2px rgba(60, 64, 67, 0.3), 0 1px 3px 1px rgba(60, 64, 67, 0.15);\n",
       "    fill: var(--button-hover-fill-color);\n",
       "  }\n",
       "\n",
       "  .colab-df-quickchart-complete:disabled,\n",
       "  .colab-df-quickchart-complete:disabled:hover {\n",
       "    background-color: var(--disabled-bg-color);\n",
       "    fill: var(--disabled-fill-color);\n",
       "    box-shadow: none;\n",
       "  }\n",
       "\n",
       "  .colab-df-spinner {\n",
       "    border: 2px solid var(--fill-color);\n",
       "    border-color: transparent;\n",
       "    border-bottom-color: var(--fill-color);\n",
       "    animation:\n",
       "      spin 1s steps(1) infinite;\n",
       "  }\n",
       "\n",
       "  @keyframes spin {\n",
       "    0% {\n",
       "      border-color: transparent;\n",
       "      border-bottom-color: var(--fill-color);\n",
       "      border-left-color: var(--fill-color);\n",
       "    }\n",
       "    20% {\n",
       "      border-color: transparent;\n",
       "      border-left-color: var(--fill-color);\n",
       "      border-top-color: var(--fill-color);\n",
       "    }\n",
       "    30% {\n",
       "      border-color: transparent;\n",
       "      border-left-color: var(--fill-color);\n",
       "      border-top-color: var(--fill-color);\n",
       "      border-right-color: var(--fill-color);\n",
       "    }\n",
       "    40% {\n",
       "      border-color: transparent;\n",
       "      border-right-color: var(--fill-color);\n",
       "      border-top-color: var(--fill-color);\n",
       "    }\n",
       "    60% {\n",
       "      border-color: transparent;\n",
       "      border-right-color: var(--fill-color);\n",
       "    }\n",
       "    80% {\n",
       "      border-color: transparent;\n",
       "      border-right-color: var(--fill-color);\n",
       "      border-bottom-color: var(--fill-color);\n",
       "    }\n",
       "    90% {\n",
       "      border-color: transparent;\n",
       "      border-bottom-color: var(--fill-color);\n",
       "    }\n",
       "  }\n",
       "</style>\n",
       "\n",
       "      <script>\n",
       "        async function quickchart(key) {\n",
       "          const quickchartButtonEl =\n",
       "            document.querySelector('#' + key + ' button');\n",
       "          quickchartButtonEl.disabled = true;  // To prevent multiple clicks.\n",
       "          quickchartButtonEl.classList.add('colab-df-spinner');\n",
       "          try {\n",
       "            const charts = await google.colab.kernel.invokeFunction(\n",
       "                'suggestCharts', [key], {});\n",
       "          } catch (error) {\n",
       "            console.error('Error during call to suggestCharts:', error);\n",
       "          }\n",
       "          quickchartButtonEl.classList.remove('colab-df-spinner');\n",
       "          quickchartButtonEl.classList.add('colab-df-quickchart-complete');\n",
       "        }\n",
       "        (() => {\n",
       "          let quickchartButtonEl =\n",
       "            document.querySelector('#df-719add9d-f311-4ce9-bc8c-291b25be4f74 button');\n",
       "          quickchartButtonEl.style.display =\n",
       "            google.colab.kernel.accessAllowed ? 'block' : 'none';\n",
       "        })();\n",
       "      </script>\n",
       "    </div>\n",
       "\n",
       "    </div>\n",
       "  </div>\n"
      ],
      "application/vnd.google.colaboratory.intrinsic+json": {
       "type": "dataframe",
       "summary": "{\n  \"name\": \"print(\\\"y_test:\\\", y_test\",\n  \"rows\": 5,\n  \"fields\": [\n    {\n      \"column\": \"MedInc\",\n      \"properties\": {\n        \"dtype\": \"number\",\n        \"std\": 1.9218775476080674,\n        \"min\": 3.8462,\n        \"max\": 8.3252,\n        \"num_unique_values\": 5,\n        \"samples\": [\n          8.3014,\n          3.8462,\n          7.2574\n        ],\n        \"semantic_type\": \"\",\n        \"description\": \"\"\n      }\n    },\n    {\n      \"column\": \"HouseAge\",\n      \"properties\": {\n        \"dtype\": \"number\",\n        \"std\": 13.501851724856113,\n        \"min\": 21.0,\n        \"max\": 52.0,\n        \"num_unique_values\": 3,\n        \"samples\": [\n          41.0,\n          21.0,\n          52.0\n        ],\n        \"semantic_type\": \"\",\n        \"description\": \"\"\n      }\n    },\n    {\n      \"column\": \"AveRooms\",\n      \"properties\": {\n        \"dtype\": \"number\",\n        \"std\": 0.9705323807243326,\n        \"min\": 5.8173515981735155,\n        \"max\": 8.288135593220339,\n        \"num_unique_values\": 5,\n        \"samples\": [\n          6.238137082601054,\n          6.281853281853282,\n          8.288135593220339\n        ],\n        \"semantic_type\": \"\",\n        \"description\": \"\"\n      }\n    },\n    {\n      \"column\": \"AveBedrms\",\n      \"properties\": {\n        \"dtype\": \"number\",\n        \"std\": 0.04661885487529508,\n        \"min\": 0.9718804920913884,\n        \"max\": 1.0810810810810811,\n        \"num_unique_values\": 5,\n        \"samples\": [\n          0.9718804920913884,\n          1.0810810810810811,\n          1.073446327683616\n        ],\n        \"semantic_type\": \"\",\n        \"description\": \"\"\n      }\n    },\n    {\n      \"column\": \"Population\",\n      \"properties\": {\n        \"dtype\": \"number\",\n        \"std\": 862.3365352343596,\n        \"min\": 322.0,\n        \"max\": 2401.0,\n        \"num_unique_values\": 5,\n        \"samples\": [\n          2401.0,\n          565.0,\n          496.0\n        ],\n        \"semantic_type\": \"\",\n        \"description\": \"\"\n      }\n    },\n    {\n      \"column\": \"AveOccup\",\n      \"properties\": {\n        \"dtype\": \"number\",\n        \"std\": 0.2881316535489867,\n        \"min\": 2.109841827768014,\n        \"max\": 2.8022598870056497,\n        \"num_unique_values\": 5,\n        \"samples\": [\n          2.109841827768014,\n          2.1814671814671813,\n          2.8022598870056497\n        ],\n        \"semantic_type\": \"\",\n        \"description\": \"\"\n      }\n    },\n    {\n      \"column\": \"Latitude\",\n      \"properties\": {\n        \"dtype\": \"number\",\n        \"std\": 0.0130384048104057,\n        \"min\": 37.85,\n        \"max\": 37.88,\n        \"num_unique_values\": 3,\n        \"samples\": [\n          37.88,\n          37.86,\n          37.85\n        ],\n        \"semantic_type\": \"\",\n        \"description\": \"\"\n      }\n    },\n    {\n      \"column\": \"Longitude\",\n      \"properties\": {\n        \"dtype\": \"number\",\n        \"std\": 0.013038404810404884,\n        \"min\": -122.25,\n        \"max\": -122.22,\n        \"num_unique_values\": 4,\n        \"samples\": [\n          -122.22,\n          -122.25,\n          -122.23\n        ],\n        \"semantic_type\": \"\",\n        \"description\": \"\"\n      }\n    },\n    {\n      \"column\": \"MedHouseVal\",\n      \"properties\": {\n        \"dtype\": \"number\",\n        \"std\": 0.4708973348830931,\n        \"min\": 3.413,\n        \"max\": 4.526,\n        \"num_unique_values\": 5,\n        \"samples\": [\n          3.585,\n          3.422,\n          3.521\n        ],\n        \"semantic_type\": \"\",\n        \"description\": \"\"\n      }\n    }\n  ]\n}"
      }
     },
     "metadata": {}
    },
    {
     "output_type": "stream",
     "name": "stdout",
     "text": [
      "\n",
      "Information about the DataFrame:\n",
      "<class 'pandas.core.frame.DataFrame'>\n",
      "RangeIndex: 20640 entries, 0 to 20639\n",
      "Data columns (total 9 columns):\n",
      " #   Column       Non-Null Count  Dtype  \n",
      "---  ------       --------------  -----  \n",
      " 0   MedInc       20640 non-null  float64\n",
      " 1   HouseAge     20640 non-null  float64\n",
      " 2   AveRooms     20640 non-null  float64\n",
      " 3   AveBedrms    20640 non-null  float64\n",
      " 4   Population   20640 non-null  float64\n",
      " 5   AveOccup     20640 non-null  float64\n",
      " 6   Latitude     20640 non-null  float64\n",
      " 7   Longitude    20640 non-null  float64\n",
      " 8   MedHouseVal  20640 non-null  float64\n",
      "dtypes: float64(9)\n",
      "memory usage: 1.4 MB\n",
      "\n",
      "Missing values per column:\n",
      "MedInc         0\n",
      "HouseAge       0\n",
      "AveRooms       0\n",
      "AveBedrms      0\n",
      "Population     0\n",
      "AveOccup       0\n",
      "Latitude       0\n",
      "Longitude      0\n",
      "MedHouseVal    0\n",
      "dtype: int64\n",
      "\n",
      "Shape of training and testing sets:\n",
      "X_train: (16512, 8)\n",
      "X_test: (4128, 8)\n",
      "y_train: (16512,)\n",
      "y_test: (4128,)\n"
     ]
    }
   ],
   "id": "ce110000-1111-2222-3333-ffffff000007"
  },
  {
   "cell_type": "markdown",
   "metadata": {
    "id": "223bc7bc",
    "name": "cell9"
   },
   "source": [
    "## Choose and train models\n",
    "\n",
    "### Subtask:\n",
    "Select a few regression models and train them on the training data.\n"
   ],
   "id": "ce110000-1111-2222-3333-ffffff000008"
  },
  {
   "cell_type": "markdown",
   "metadata": {
    "id": "edaecb41",
    "name": "cell10"
   },
   "source": [
    "**Reasoning**:\n",
    "Import the necessary regression models and train them on the training data.\n",
    "\n"
   ],
   "id": "ce110000-1111-2222-3333-ffffff000009"
  },
  {
   "cell_type": "code",
   "metadata": {
    "colab": {
     "base_uri": "https://localhost:8080/"
    },
    "id": "74cc1d6c",
    "outputId": "0d323b25-683b-4fc2-e431-5673767c0043",
    "name": "cell11",
    "language": "python"
   },
   "source": [
    "from sklearn.linear_model import LinearRegression\n",
    "from sklearn.tree import DecisionTreeRegressor\n",
    "from sklearn.ensemble import RandomForestRegressor\n",
    "\n",
    "lr = LinearRegression()\n",
    "dt = DecisionTreeRegressor(random_state=42)\n",
    "rf = RandomForestRegressor(random_state=42)\n",
    "\n",
    "lr.fit(X_train, y_train)\n",
    "dt.fit(X_train, y_train)\n",
    "rf.fit(X_train, y_train)\n",
    "\n",
    "print(\"Linear Regression model trained.\")\n",
    "print(\"Decision Tree Regressor model trained.\")\n",
    "print(\"Random Forest Regressor model trained.\")"
   ],
   "execution_count": null,
   "outputs": [
    {
     "output_type": "stream",
     "name": "stdout",
     "text": [
      "Linear Regression model trained.\n",
      "Decision Tree Regressor model trained.\n",
      "Random Forest Regressor model trained.\n"
     ]
    }
   ],
   "id": "ce110000-1111-2222-3333-ffffff000010"
  },
  {
   "cell_type": "markdown",
   "metadata": {
    "id": "6f7b7ca1",
    "name": "cell12"
   },
   "source": [
    "## Evaluate models\n",
    "\n",
    "### Subtask:\n",
    "Evaluate the trained models using appropriate regression metrics (e.g., Mean Squared Error, R-squared).\n"
   ],
   "id": "ce110000-1111-2222-3333-ffffff000011"
  },
  {
   "cell_type": "markdown",
   "metadata": {
    "id": "dc46791f",
    "name": "cell13"
   },
   "source": [
    "**Reasoning**:\n",
    "Import the necessary metrics for model evaluation and create a list of the trained models.\n",
    "\n"
   ],
   "id": "ce110000-1111-2222-3333-ffffff000012"
  },
  {
   "cell_type": "code",
   "metadata": {
    "id": "bc1907e8",
    "name": "cell14",
    "language": "python"
   },
   "source": [
    "from sklearn.metrics import mean_squared_error, r2_score\n",
    "\n",
    "models = [lr, dt, rf]\n",
    "model_names = ['Linear Regression', 'Decision Tree', 'Random Forest']"
   ],
   "execution_count": null,
   "outputs": [],
   "id": "ce110000-1111-2222-3333-ffffff000013"
  },
  {
   "cell_type": "markdown",
   "metadata": {
    "id": "ca993d67",
    "name": "cell15"
   },
   "source": [
    "**Reasoning**:\n",
    "Iterate through the list of models, make predictions, calculate and print the evaluation metrics.\n",
    "\n"
   ],
   "id": "ce110000-1111-2222-3333-ffffff000014"
  },
  {
   "cell_type": "code",
   "metadata": {
    "colab": {
     "base_uri": "https://localhost:8080/"
    },
    "id": "d5ab0d6f",
    "outputId": "6bb2ed1d-f291-4ad6-90d4-1596f7c7a42d",
    "name": "cell16",
    "language": "python"
   },
   "source": [
    "for i, model in enumerate(models):\n",
    "    y_pred = model.predict(X_test)\n",
    "    mse = mean_squared_error(y_test, y_pred)\n",
    "    r2 = r2_score(y_test, y_pred)\n",
    "    print(f\"{model_names[i]} - MSE: {mse:.4f}, R-squared: {r2:.4f}\")"
   ],
   "execution_count": null,
   "outputs": [
    {
     "output_type": "stream",
     "name": "stdout",
     "text": [
      "Linear Regression - MSE: 0.5559, R-squared: 0.5758\n",
      "Decision Tree - MSE: 0.4952, R-squared: 0.6221\n",
      "Random Forest - MSE: 0.2554, R-squared: 0.8051\n"
     ]
    }
   ],
   "id": "ce110000-1111-2222-3333-ffffff000015"
  },
  {
   "cell_type": "markdown",
   "metadata": {
    "id": "d011fa94",
    "name": "cell17"
   },
   "source": [
    "## Present results\n",
    "\n",
    "### Subtask:\n",
    "Display the evaluation results for each model and briefly discuss the findings.\n"
   ],
   "id": "ce110000-1111-2222-3333-ffffff000016"
  },
  {
   "cell_type": "markdown",
   "metadata": {
    "id": "21b7c641",
    "name": "cell18"
   },
   "source": [
    "**Reasoning**:\n",
    "Reiterate the evaluation results and discuss the findings as requested in the instructions.\n",
    "\n"
   ],
   "id": "ce110000-1111-2222-3333-ffffff000017"
  },
  {
   "cell_type": "code",
   "metadata": {
    "colab": {
     "base_uri": "https://localhost:8080/"
    },
    "id": "87eb649d",
    "outputId": "26ad3f7d-8c19-4add-9a89-a5165f49ff1d",
    "name": "cell19",
    "language": "python"
   },
   "source": [
    "print(\"Model Evaluation Results:\")\n",
    "print(f\"Linear Regression - MSE: 0.5559, R-squared: 0.5758\")\n",
    "print(f\"Decision Tree - MSE: 0.4952, R-squared: 0.6221\")\n",
    "print(f\"Random Forest - MSE: {mse:.4f}, R-squared: {r2:.4f}\")\n",
    "\n",
    "print(\"\\nInterpretation of Metrics:\")\n",
    "print(\"- Mean Squared Error (MSE): Measures the average squared difference between the actual and predicted values. Lower MSE indicates a better fit of the model to the data.\")\n",
    "print(\"- R-squared: Represents the proportion of the variance in the dependent variable that is predictable from the independent variables. A higher R-squared indicates that the model explains a larger portion of the variance.\")\n",
    "\n",
    "print(\"\\nComparison of Model Performance:\")\n",
    "print(\"Comparing the three models, the Random Forest Regressor has the lowest MSE (0.2554) and the highest R-squared (0.8051). The Decision Tree Regressor performs better than the Linear Regression model in terms of both MSE and R-squared.\")\n",
    "\n",
    "print(\"\\nDiscussion:\")\n",
    "print(\"Based on the evaluation metrics, the Random Forest Regressor performed the best among the three models. Its lower MSE indicates that its predictions are closer to the actual housing prices on average, and its higher R-squared value suggests that it explains a significantly larger proportion of the variance in housing prices compared to the Linear Regression and Decision Tree models. This is likely due to the ensemble nature of Random Forests, which combines predictions from multiple decision trees to reduce variance and improve generalization.\")"
   ],
   "execution_count": null,
   "outputs": [
    {
     "output_type": "stream",
     "name": "stdout",
     "text": [
      "Model Evaluation Results:\n",
      "Linear Regression - MSE: 0.5559, R-squared: 0.5758\n",
      "Decision Tree - MSE: 0.4952, R-squared: 0.6221\n",
      "Random Forest - MSE: 0.2554, R-squared: 0.8051\n",
      "\n",
      "Interpretation of Metrics:\n",
      "- Mean Squared Error (MSE): Measures the average squared difference between the actual and predicted values. Lower MSE indicates a better fit of the model to the data.\n",
      "- R-squared: Represents the proportion of the variance in the dependent variable that is predictable from the independent variables. A higher R-squared indicates that the model explains a larger portion of the variance.\n",
      "\n",
      "Comparison of Model Performance:\n",
      "Comparing the three models, the Random Forest Regressor has the lowest MSE (0.2554) and the highest R-squared (0.8051). The Decision Tree Regressor performs better than the Linear Regression model in terms of both MSE and R-squared.\n",
      "\n",
      "Discussion:\n",
      "Based on the evaluation metrics, the Random Forest Regressor performed the best among the three models. Its lower MSE indicates that its predictions are closer to the actual housing prices on average, and its higher R-squared value suggests that it explains a significantly larger proportion of the variance in housing prices compared to the Linear Regression and Decision Tree models. This is likely due to the ensemble nature of Random Forests, which combines predictions from multiple decision trees to reduce variance and improve generalization.\n"
     ]
    }
   ],
   "id": "ce110000-1111-2222-3333-ffffff000018"
  },
  {
   "cell_type": "markdown",
   "metadata": {
    "id": "769ed12f",
    "name": "cell20"
   },
   "source": [
    "## Summary:\n",
    "\n",
    "### Data Analysis Key Findings\n",
    "\n",
    "*   The dataset contains 20640 entries and 9 columns with no missing values.\n",
    "*   The data was split into training (16512 samples) and testing (4128 samples) sets.\n",
    "*   Three regression models (Linear Regression, Decision Tree, and Random Forest) were trained on the data.\n",
    "*   Model performance evaluation using the test set showed the following:\n",
    "    *   Linear Regression - MSE: 0.5559, R-squared: 0.5758\n",
    "    *   Decision Tree - MSE: 0.4952, R-squared: 0.6221\n",
    "    *   Random Forest - MSE: 0.2554, R-squared: 0.8051\n",
    "*   The Random Forest Regressor achieved the lowest Mean Squared Error (MSE) and the highest R-squared score, indicating the best performance among the evaluated models.\n",
    "\n",
    "### Insights or Next Steps\n",
    "\n",
    "*   The Random Forest model is the most suitable for predicting housing prices based on this dataset among the evaluated models.\n",
    "*   Further hyperparameter tuning of the Random Forest model could potentially improve its performance even further.\n"
   ],
   "id": "ce110000-1111-2222-3333-ffffff000019"
  },
  {
   "cell_type": "markdown",
   "metadata": {
    "id": "3f4d2513",
    "name": "cell21"
   },
   "source": [
    "## Visualize Evaluation Results\n",
    "\n",
    "### Subtask:\n",
    "Create bar charts to visualize the Mean Squared Error and R-squared values for each model."
   ],
   "id": "ce110000-1111-2222-3333-ffffff000020"
  },
  {
   "cell_type": "markdown",
   "metadata": {
    "id": "5cae35da",
    "name": "cell22"
   },
   "source": [
    "**Reasoning**:\n",
    "Import the necessary libraries for plotting, create a dictionary to store the evaluation results, and then generate bar charts for MSE and R-squared."
   ],
   "id": "ce110000-1111-2222-3333-ffffff000021"
  },
  {
   "cell_type": "code",
   "metadata": {
    "id": "7c03d9d1",
    "outputId": "35dd899d-55b4-44d1-9530-91f3956df9a0",
    "colab": {
     "base_uri": "https://localhost:8080/",
     "height": 607
    },
    "name": "cell23",
    "language": "python"
   },
   "source": "import matplotlib.pyplot as plt\nimport numpy as np\n\n# Store the evaluation results in a dictionary for easy access\nevaluation_results = {\n    'Linear Regression': {'MSE': 0.5559, 'R-squared': 0.5758},\n    'Decision Tree': {'MSE': 0.4952, 'R-squared': 0.6221},\n    'Random Forest': {'MSE': 0.2554, 'R-squared': 0.8051}\n}\n\nmodels = list(evaluation_results.keys())\nmse_values = [evaluation_results[model]['MSE'] for model in models]\nr2_values = [evaluation_results[model]['R-squared'] for model in models]\n\nx = np.arange(len(models))  # the label locations\nwidth = 0.35  # the width of the bars\n\nfig, ax = plt.subplots(1, 2, figsize=(14, 6))\n\n# MSE Bar Chart\nrects1 = ax[0].bar(x - width/2, mse_values, width, label='MSE')\nax[0].set_ylabel('MSE')\nax[0].set_title('Mean Squared Error by Model')\nax[0].set_xticks(x)\nax[0].set_xticklabels(models)\nax[0].legend()\nax[0].tick_params(axis='x', rotation=45)\n\n# R-squared Bar Chart\nrects2 = ax[1].bar(x + width/2, r2_values, width, label='R-squared', color='orange')\nax[1].set_ylabel('R-squared')\nax[1].set_title('R-squared by Model')\nax[1].set_xticks(x)\nax[1].set_xticklabels(models)\nax[1].legend()\nax[1].tick_params(axis='x', rotation=45)\n\nfig.tight_layout()\nplt.show()\n\n\nimport matplotlib.pyplot as plt\nimport numpy as np\n\n# Store the evaluation results in a dictionary for easy access\nevaluation_results = {\n    'Linear Regression': {'MSE': 0.5559, 'R-squared': 0.5758},\n    'Decision Tree': {'MSE': 0.4952, 'R-squared': 0.6221},\n    'Random Forest': {'MSE': 0.2554, 'R-squared': 0.8051}\n}\n\nmodels = list(evaluation_results.keys())\nmse_values = [evaluation_results[model]['MSE'] for model in models]\nr2_values = [evaluation_results[model]['R-squared'] for model in models]\n\nx = np.arange(len(models))  # the label locations\nwidth = 0.35  # the width of the bars\n\nfig, ax = plt.subplots(1, 2, figsize=(14, 6))\n\n# MSE Bar Chart\nrects1 = ax[0].bar(x - width/2, mse_values, width, label='MSE')\nax[0].set_ylabel('MSE')\nax[0].set_title('Mean Squared Error by Model')\nax[0].set_xticks(x)\nax[0].set_xticklabels(models)\nax[0].legend()\nax[0].tick_params(axis='x', rotation=45)\n\n# R-squared Bar Chart\nrects2 = ax[1].bar(x + width/2, r2_values, width, label='R-squared', color='orange')\nax[1].set_ylabel('R-squared')\nax[1].set_title('R-squared by Model')\nax[1].set_xticks(x)\nax[1].set_xticklabels(models)\nax[1].legend()\nax[1].tick_params(axis='x', rotation=45)\n\nfig.tight_layout()\nplt.show()\n\n\n\nimport matplotlib.pyplot as plt\nimport numpy as np\n\n# Store the evaluation results in a dictionary for easy access\nevaluation_results = {\n    'Linear Regression': {'MSE': 0.5559, 'R-squared': 0.5758},\n    'Decision Tree': {'MSE': 0.4952, 'R-squared': 0.6221},\n    'Random Forest': {'MSE': 0.2554, 'R-squared': 0.8051}\n}\n\nmodels = list(evaluation_results.keys())\nmse_values = [evaluation_results[model]['MSE'] for model in models]\nr2_values = [evaluation_results[model]['R-squared'] for model in models]\n\nx = np.arange(len(models))  # the label locations\nwidth = 0.35  # the width of the bars\n\nfig, ax = plt.subplots(1, 2, figsize=(14, 6))\n\n# MSE Bar Chart\nrects1 = ax[0].bar(x - width/2, mse_values, width, label='MSE')\nax[0].set_ylabel('MSE')\nax[0].set_title('Mean Squared Error by Model')\nax[0].set_xticks(x)\nax[0].set_xticklabels(models)\nax[0].legend()\nax[0].tick_params(axis='x', rotation=45)\n\n# R-squared Bar Chart\nrects2 = ax[1].bar(x + width/2, r2_values, width, label='R-squared', color='orange')\nax[1].set_ylabel('R-squared')\nax[1].set_title('R-squared by Model')\nax[1].set_xticks(x)\nax[1].set_xticklabels(models)\nax[1].legend()\nax[1].tick_params(axis='x', rotation=45)\n\nfig.tight_layout()\nplt.show()",
   "execution_count": null,
   "outputs": [
    {
     "output_type": "display_data",
     "data": {
      "text/plain": [
       "<Figure size 1400x600 with 2 Axes>"
      ],
      "image/png": "[encoded data removed]"
     },
     "metadata": {}
    }
   ],
   "id": "ce110000-1111-2222-3333-ffffff000022"
  },
  {
   "cell_type": "code",
   "id": "4c1126a5-3f2e-4f8f-8ae7-9c511b2dd523",
   "metadata": {
    "language": "python",
    "name": "cell24"
   },
   "outputs": [],
   "source": "!pip freeze",
   "execution_count": null
  },
  {
   "cell_type": "code",
   "id": "232f7def-10cf-445f-b575-438cb0856295",
   "metadata": {
    "language": "python",
    "name": "cell25"
   },
   "outputs": [],
   "source": "!pip freeze | grep pendulum",
   "execution_count": null
  },
  {
   "cell_type": "code",
   "id": "2680a1b1-d931-40e0-93f9-d434ff09f097",
   "metadata": {
    "language": "python",
    "name": "cell26"
   },
   "outputs": [],
   "source": "!pip install pendulum\n",
   "execution_count": null
  },
  {
   "cell_type": "code",
   "id": "3b48943f-152c-4b2d-95f9-e6b7cedad476",
   "metadata": {
    "language": "python",
    "name": "cell27"
   },
   "outputs": [],
   "source": "!pip install pendulum\n",
   "execution_count": null
  },
  {
   "cell_type": "code",
   "id": "32b23c44-afc4-4975-a893-94930eba36bc",
   "metadata": {
    "language": "python",
    "name": "cell28"
   },
   "outputs": [],
   "source": "!pip install pendulum",
   "execution_count": null
  }
 ]
}